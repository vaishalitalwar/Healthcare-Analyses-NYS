{
 "cells": [
  {
   "cell_type": "code",
   "execution_count": 97,
   "metadata": {
    "collapsed": true
   },
   "outputs": [],
   "source": [
    "import pandas as pd\n",
    "import plotly.express as px"
   ]
  },
  {
   "cell_type": "code",
   "execution_count": 98,
   "outputs": [],
   "source": [
    "# https://health.data.ny.gov/Health/Health-Facility-Certification-Information/2g9y-7kqm\n",
    "# https://health.data.ny.gov/Health/New-York-State-Population-Data-Beginning-2003/e9uj-s3sf\n",
    "\n",
    "ny_file = open(\"data/New_York_State_Population_Data__Beginning_2003.csv\",'r')\n",
    "ny_file_out = open(\"data/New_York_State_Population_Data__Beginning_2003_clean.csv\",'w')\n",
    "for l in ny_file:\n",
    "    if \"Total\" not in l:\n",
    "        ny_file_out.write(l)\n",
    "ny_file.close()\n",
    "ny_file_out.close()"
   ],
   "metadata": {
    "collapsed": false,
    "pycharm": {
     "name": "#%%\n"
    }
   }
  },
  {
   "cell_type": "code",
   "execution_count": 99,
   "outputs": [],
   "source": [
    "ny_pop = pd.read_csv(\"data/New_York_State_Population_Data__Beginning_2003_clean.csv\")\n",
    "hf_info = pd.read_csv(\"data/Health_Facility_Certification_Information.csv\")"
   ],
   "metadata": {
    "collapsed": false,
    "pycharm": {
     "name": "#%%\n"
    }
   }
  },
  {
   "cell_type": "code",
   "execution_count": 100,
   "outputs": [],
   "source": [
    "hf_info[\"Effective Date\"]=hf_info[\"Effective Date\"].astype('datetime64[ns]')\n",
    "d='2018-01-01'\n",
    "date=pd.to_datetime(d)\n",
    "hf_info = hf_info[hf_info[\"Effective Date\"] < date] # only consider stuff before 2017\n",
    "hf_info = hf_info[hf_info[\"Sub Type\"] == \"Permanent\"] # consider only permanent situation\n",
    "hf_info.drop([\"Regional Office\", \"Effective Date\"], axis=1,inplace=True)"
   ],
   "metadata": {
    "collapsed": false,
    "pycharm": {
     "name": "#%%\n"
    }
   }
  },
  {
   "cell_type": "code",
   "execution_count": 101,
   "outputs": [],
   "source": [
    "# print(hf_info.columns)\n",
    "bed_county_attval = hf_info.groupby(by=['Attribute Value', 'County'])[\"Measure Value\"].sum().reset_index()\n"
   ],
   "metadata": {
    "collapsed": false,
    "pycharm": {
     "name": "#%%\n"
    }
   }
  },
  {
   "cell_type": "code",
   "execution_count": 102,
   "outputs": [
    {
     "data": {
      "application/vnd.plotly.v1+json": {
       "config": {
        "plotlyServerURL": "https://plot.ly"
       },
       "data": [
        {
         "alignmentgroup": "True",
         "hovertemplate": "Race/Ethnicity Description=POC<br>County Name=%{x}<br>Population=%{y}<extra></extra>",
         "legendgroup": "POC",
         "marker": {
          "color": "#636efa"
         },
         "name": "POC",
         "offsetgroup": "POC",
         "orientation": "v",
         "showlegend": true,
         "textposition": "auto",
         "type": "bar",
         "x": [
          "Hamilton",
          "Schuyler",
          "Lewis",
          "Yates",
          "Schoharie",
          "Tioga",
          "Chenango",
          "Allegany",
          "Herkimer",
          "Cortland",
          "Essex",
          "Warren",
          "Delaware",
          "Fulton",
          "Seneca",
          "Madison",
          "Washington",
          "Otsego",
          "Wyoming",
          "Genesee",
          "Steuben",
          "Livingston",
          "Oswego",
          "Orleans",
          "Cattaraugus",
          "Greene",
          "Cayuga",
          "Clinton",
          "Columbia",
          "Montgomery",
          "St Lawrence",
          "Wayne",
          "Ontario",
          "Franklin",
          "Chemung",
          "Chautauqua",
          "Saratoga",
          "Putnam",
          "Jefferson",
          "Sullivan",
          "Tompkins",
          "Rensselaer",
          "Broome",
          "Niagara",
          "Schenectady",
          "Ulster",
          "Oneida",
          "Albany",
          "Dutchess",
          "Onondaga",
          "Rockland",
          "Orange",
          "Richmond",
          "Monroe",
          "Erie",
          "Westchester",
          "Suffolk",
          "Nassau",
          "New York",
          "Bronx",
          "Queens",
          "Kings",
          "New York City"
         ],
         "xaxis": "x",
         "y": [
          152.86666666666667,
          741.3333333333334,
          783.2666666666667,
          850.9333333333333,
          1634.0,
          1811.3333333333333,
          1898.0,
          2006.4,
          2401.0,
          2520.8,
          2578.0666666666666,
          2716.4,
          2896.8,
          3079.4,
          3239.133333333333,
          3655.0666666666666,
          3967.8,
          3994.866666666667,
          4007.3333333333335,
          4286.333333333333,
          4702.333333333333,
          4794.0,
          5045.466666666666,
          5170.733333333334,
          5673.666666666667,
          6069.6,
          6251.733333333334,
          6684.4,
          6717.533333333334,
          6815.733333333334,
          7317.4,
          7442.133333333333,
          7964.533333333334,
          8837.466666666667,
          9782.466666666667,
          12896.066666666668,
          14698.066666666668,
          16341.8,
          16807.266666666666,
          18309.466666666667,
          19593.8,
          20302.6,
          24309.8,
          24762.8,
          30654.866666666665,
          30802.266666666666,
          32316.533333333333,
          68703.0,
          71326.4,
          87964.46666666666,
          103480.86666666667,
          114553.33333333333,
          163855.33333333334,
          189507.33333333334,
          195983.46666666667,
          397689.13333333336,
          405075.4,
          452765.06666666665,
          832021.9333333333,
          1238669.3333333333,
          1614555.1333333333,
          1624995.5333333334,
          5474097.266666667
         ],
         "yaxis": "y"
        },
        {
         "alignmentgroup": "True",
         "hovertemplate": "Race/Ethnicity Description=White Non Hispanic<br>County Name=%{x}<br>Population=%{y}<extra></extra>",
         "legendgroup": "White Non Hispanic",
         "marker": {
          "color": "#EF553B"
         },
         "name": "White Non Hispanic",
         "offsetgroup": "White Non Hispanic",
         "orientation": "v",
         "showlegend": true,
         "textposition": "auto",
         "type": "bar",
         "x": [
          "Hamilton",
          "Schuyler",
          "Yates",
          "Lewis",
          "Schoharie",
          "Seneca",
          "Essex",
          "Orleans",
          "Wyoming",
          "Franklin",
          "Montgomery",
          "Greene",
          "Delaware",
          "Cortland",
          "Allegany",
          "Chenango",
          "Tioga",
          "Fulton",
          "Genesee",
          "Columbia",
          "Otsego",
          "Sullivan",
          "Washington",
          "Livingston",
          "Herkimer",
          "Warren",
          "Madison",
          "Cayuga",
          "Cattaraugus",
          "Clinton",
          "Chemung",
          "Tompkins",
          "Putnam",
          "Wayne",
          "Steuben",
          "Ontario",
          "Jefferson",
          "St Lawrence",
          "Oswego",
          "Chautauqua",
          "Schenectady",
          "Rensselaer",
          "Ulster",
          "Bronx",
          "Broome",
          "Niagara",
          "Oneida",
          "Saratoga",
          "Rockland",
          "Dutchess",
          "Albany",
          "Orange",
          "Richmond",
          "Onondaga",
          "Monroe",
          "Westchester",
          "Queens",
          "Erie",
          "New York",
          "Nassau",
          "Kings",
          "Suffolk",
          "New York City"
         ],
         "xaxis": "x",
         "y": [
          4750.333333333333,
          17978.266666666666,
          24082.666666666668,
          25975.8,
          30271.0,
          31584.533333333333,
          35977.8,
          37322.26666666667,
          37806.86666666667,
          42188.53333333333,
          42561.066666666666,
          42638.53333333333,
          43746.2,
          46145.333333333336,
          46914.13333333333,
          48404.0,
          48607.26666666667,
          51783.53333333333,
          54756.8,
          55632.333333333336,
          57706.933333333334,
          57791.6,
          58685.6,
          59500.2,
          60981.2,
          62670.6,
          67595.26666666666,
          73556.4,
          74331.6,
          75014.8,
          78518.6,
          82718.8,
          83316.53333333334,
          84947.26666666666,
          93276.0,
          98829.93333333333,
          99830.6,
          103665.73333333334,
          116532.73333333334,
          120783.2,
          122009.26666666666,
          137241.13333333333,
          150548.06666666668,
          163693.6,
          172624.0,
          190192.53333333333,
          200785.53333333333,
          205338.4,
          205902.66666666666,
          223710.93333333332,
          234173.46666666667,
          261187.26666666666,
          310251.8,
          374303.8,
          551455.8666666667,
          560540.0666666667,
          667405.9333333333,
          726025.9333333333,
          783933.7333333333,
          893223.4666666667,
          930083.9333333333,
          1085148.8,
          2855369.0
         ],
         "yaxis": "y"
        }
       ],
       "layout": {
        "barmode": "stack",
        "legend": {
         "title": {
          "text": "Race/Ethnicity Description"
         },
         "tracegroupgap": 0
        },
        "margin": {
         "t": 60
        },
        "template": {
         "data": {
          "bar": [
           {
            "error_x": {
             "color": "#2a3f5f"
            },
            "error_y": {
             "color": "#2a3f5f"
            },
            "marker": {
             "line": {
              "color": "#E5ECF6",
              "width": 0.5
             }
            },
            "type": "bar"
           }
          ],
          "barpolar": [
           {
            "marker": {
             "line": {
              "color": "#E5ECF6",
              "width": 0.5
             }
            },
            "type": "barpolar"
           }
          ],
          "carpet": [
           {
            "aaxis": {
             "endlinecolor": "#2a3f5f",
             "gridcolor": "white",
             "linecolor": "white",
             "minorgridcolor": "white",
             "startlinecolor": "#2a3f5f"
            },
            "baxis": {
             "endlinecolor": "#2a3f5f",
             "gridcolor": "white",
             "linecolor": "white",
             "minorgridcolor": "white",
             "startlinecolor": "#2a3f5f"
            },
            "type": "carpet"
           }
          ],
          "choropleth": [
           {
            "colorbar": {
             "outlinewidth": 0,
             "ticks": ""
            },
            "type": "choropleth"
           }
          ],
          "contour": [
           {
            "colorbar": {
             "outlinewidth": 0,
             "ticks": ""
            },
            "colorscale": [
             [
              0.0,
              "#0d0887"
             ],
             [
              0.1111111111111111,
              "#46039f"
             ],
             [
              0.2222222222222222,
              "#7201a8"
             ],
             [
              0.3333333333333333,
              "#9c179e"
             ],
             [
              0.4444444444444444,
              "#bd3786"
             ],
             [
              0.5555555555555556,
              "#d8576b"
             ],
             [
              0.6666666666666666,
              "#ed7953"
             ],
             [
              0.7777777777777778,
              "#fb9f3a"
             ],
             [
              0.8888888888888888,
              "#fdca26"
             ],
             [
              1.0,
              "#f0f921"
             ]
            ],
            "type": "contour"
           }
          ],
          "contourcarpet": [
           {
            "colorbar": {
             "outlinewidth": 0,
             "ticks": ""
            },
            "type": "contourcarpet"
           }
          ],
          "heatmap": [
           {
            "colorbar": {
             "outlinewidth": 0,
             "ticks": ""
            },
            "colorscale": [
             [
              0.0,
              "#0d0887"
             ],
             [
              0.1111111111111111,
              "#46039f"
             ],
             [
              0.2222222222222222,
              "#7201a8"
             ],
             [
              0.3333333333333333,
              "#9c179e"
             ],
             [
              0.4444444444444444,
              "#bd3786"
             ],
             [
              0.5555555555555556,
              "#d8576b"
             ],
             [
              0.6666666666666666,
              "#ed7953"
             ],
             [
              0.7777777777777778,
              "#fb9f3a"
             ],
             [
              0.8888888888888888,
              "#fdca26"
             ],
             [
              1.0,
              "#f0f921"
             ]
            ],
            "type": "heatmap"
           }
          ],
          "heatmapgl": [
           {
            "colorbar": {
             "outlinewidth": 0,
             "ticks": ""
            },
            "colorscale": [
             [
              0.0,
              "#0d0887"
             ],
             [
              0.1111111111111111,
              "#46039f"
             ],
             [
              0.2222222222222222,
              "#7201a8"
             ],
             [
              0.3333333333333333,
              "#9c179e"
             ],
             [
              0.4444444444444444,
              "#bd3786"
             ],
             [
              0.5555555555555556,
              "#d8576b"
             ],
             [
              0.6666666666666666,
              "#ed7953"
             ],
             [
              0.7777777777777778,
              "#fb9f3a"
             ],
             [
              0.8888888888888888,
              "#fdca26"
             ],
             [
              1.0,
              "#f0f921"
             ]
            ],
            "type": "heatmapgl"
           }
          ],
          "histogram": [
           {
            "marker": {
             "colorbar": {
              "outlinewidth": 0,
              "ticks": ""
             }
            },
            "type": "histogram"
           }
          ],
          "histogram2d": [
           {
            "colorbar": {
             "outlinewidth": 0,
             "ticks": ""
            },
            "colorscale": [
             [
              0.0,
              "#0d0887"
             ],
             [
              0.1111111111111111,
              "#46039f"
             ],
             [
              0.2222222222222222,
              "#7201a8"
             ],
             [
              0.3333333333333333,
              "#9c179e"
             ],
             [
              0.4444444444444444,
              "#bd3786"
             ],
             [
              0.5555555555555556,
              "#d8576b"
             ],
             [
              0.6666666666666666,
              "#ed7953"
             ],
             [
              0.7777777777777778,
              "#fb9f3a"
             ],
             [
              0.8888888888888888,
              "#fdca26"
             ],
             [
              1.0,
              "#f0f921"
             ]
            ],
            "type": "histogram2d"
           }
          ],
          "histogram2dcontour": [
           {
            "colorbar": {
             "outlinewidth": 0,
             "ticks": ""
            },
            "colorscale": [
             [
              0.0,
              "#0d0887"
             ],
             [
              0.1111111111111111,
              "#46039f"
             ],
             [
              0.2222222222222222,
              "#7201a8"
             ],
             [
              0.3333333333333333,
              "#9c179e"
             ],
             [
              0.4444444444444444,
              "#bd3786"
             ],
             [
              0.5555555555555556,
              "#d8576b"
             ],
             [
              0.6666666666666666,
              "#ed7953"
             ],
             [
              0.7777777777777778,
              "#fb9f3a"
             ],
             [
              0.8888888888888888,
              "#fdca26"
             ],
             [
              1.0,
              "#f0f921"
             ]
            ],
            "type": "histogram2dcontour"
           }
          ],
          "mesh3d": [
           {
            "colorbar": {
             "outlinewidth": 0,
             "ticks": ""
            },
            "type": "mesh3d"
           }
          ],
          "parcoords": [
           {
            "line": {
             "colorbar": {
              "outlinewidth": 0,
              "ticks": ""
             }
            },
            "type": "parcoords"
           }
          ],
          "pie": [
           {
            "automargin": true,
            "type": "pie"
           }
          ],
          "scatter": [
           {
            "marker": {
             "colorbar": {
              "outlinewidth": 0,
              "ticks": ""
             }
            },
            "type": "scatter"
           }
          ],
          "scatter3d": [
           {
            "line": {
             "colorbar": {
              "outlinewidth": 0,
              "ticks": ""
             }
            },
            "marker": {
             "colorbar": {
              "outlinewidth": 0,
              "ticks": ""
             }
            },
            "type": "scatter3d"
           }
          ],
          "scattercarpet": [
           {
            "marker": {
             "colorbar": {
              "outlinewidth": 0,
              "ticks": ""
             }
            },
            "type": "scattercarpet"
           }
          ],
          "scattergeo": [
           {
            "marker": {
             "colorbar": {
              "outlinewidth": 0,
              "ticks": ""
             }
            },
            "type": "scattergeo"
           }
          ],
          "scattergl": [
           {
            "marker": {
             "colorbar": {
              "outlinewidth": 0,
              "ticks": ""
             }
            },
            "type": "scattergl"
           }
          ],
          "scattermapbox": [
           {
            "marker": {
             "colorbar": {
              "outlinewidth": 0,
              "ticks": ""
             }
            },
            "type": "scattermapbox"
           }
          ],
          "scatterpolar": [
           {
            "marker": {
             "colorbar": {
              "outlinewidth": 0,
              "ticks": ""
             }
            },
            "type": "scatterpolar"
           }
          ],
          "scatterpolargl": [
           {
            "marker": {
             "colorbar": {
              "outlinewidth": 0,
              "ticks": ""
             }
            },
            "type": "scatterpolargl"
           }
          ],
          "scatterternary": [
           {
            "marker": {
             "colorbar": {
              "outlinewidth": 0,
              "ticks": ""
             }
            },
            "type": "scatterternary"
           }
          ],
          "surface": [
           {
            "colorbar": {
             "outlinewidth": 0,
             "ticks": ""
            },
            "colorscale": [
             [
              0.0,
              "#0d0887"
             ],
             [
              0.1111111111111111,
              "#46039f"
             ],
             [
              0.2222222222222222,
              "#7201a8"
             ],
             [
              0.3333333333333333,
              "#9c179e"
             ],
             [
              0.4444444444444444,
              "#bd3786"
             ],
             [
              0.5555555555555556,
              "#d8576b"
             ],
             [
              0.6666666666666666,
              "#ed7953"
             ],
             [
              0.7777777777777778,
              "#fb9f3a"
             ],
             [
              0.8888888888888888,
              "#fdca26"
             ],
             [
              1.0,
              "#f0f921"
             ]
            ],
            "type": "surface"
           }
          ],
          "table": [
           {
            "cells": {
             "fill": {
              "color": "#EBF0F8"
             },
             "line": {
              "color": "white"
             }
            },
            "header": {
             "fill": {
              "color": "#C8D4E3"
             },
             "line": {
              "color": "white"
             }
            },
            "type": "table"
           }
          ]
         },
         "layout": {
          "annotationdefaults": {
           "arrowcolor": "#2a3f5f",
           "arrowhead": 0,
           "arrowwidth": 1
          },
          "autotypenumbers": "strict",
          "coloraxis": {
           "colorbar": {
            "outlinewidth": 0,
            "ticks": ""
           }
          },
          "colorscale": {
           "diverging": [
            [
             0,
             "#8e0152"
            ],
            [
             0.1,
             "#c51b7d"
            ],
            [
             0.2,
             "#de77ae"
            ],
            [
             0.3,
             "#f1b6da"
            ],
            [
             0.4,
             "#fde0ef"
            ],
            [
             0.5,
             "#f7f7f7"
            ],
            [
             0.6,
             "#e6f5d0"
            ],
            [
             0.7,
             "#b8e186"
            ],
            [
             0.8,
             "#7fbc41"
            ],
            [
             0.9,
             "#4d9221"
            ],
            [
             1,
             "#276419"
            ]
           ],
           "sequential": [
            [
             0.0,
             "#0d0887"
            ],
            [
             0.1111111111111111,
             "#46039f"
            ],
            [
             0.2222222222222222,
             "#7201a8"
            ],
            [
             0.3333333333333333,
             "#9c179e"
            ],
            [
             0.4444444444444444,
             "#bd3786"
            ],
            [
             0.5555555555555556,
             "#d8576b"
            ],
            [
             0.6666666666666666,
             "#ed7953"
            ],
            [
             0.7777777777777778,
             "#fb9f3a"
            ],
            [
             0.8888888888888888,
             "#fdca26"
            ],
            [
             1.0,
             "#f0f921"
            ]
           ],
           "sequentialminus": [
            [
             0.0,
             "#0d0887"
            ],
            [
             0.1111111111111111,
             "#46039f"
            ],
            [
             0.2222222222222222,
             "#7201a8"
            ],
            [
             0.3333333333333333,
             "#9c179e"
            ],
            [
             0.4444444444444444,
             "#bd3786"
            ],
            [
             0.5555555555555556,
             "#d8576b"
            ],
            [
             0.6666666666666666,
             "#ed7953"
            ],
            [
             0.7777777777777778,
             "#fb9f3a"
            ],
            [
             0.8888888888888888,
             "#fdca26"
            ],
            [
             1.0,
             "#f0f921"
            ]
           ]
          },
          "colorway": [
           "#636efa",
           "#EF553B",
           "#00cc96",
           "#ab63fa",
           "#FFA15A",
           "#19d3f3",
           "#FF6692",
           "#B6E880",
           "#FF97FF",
           "#FECB52"
          ],
          "font": {
           "color": "#2a3f5f"
          },
          "geo": {
           "bgcolor": "white",
           "lakecolor": "white",
           "landcolor": "#E5ECF6",
           "showlakes": true,
           "showland": true,
           "subunitcolor": "white"
          },
          "hoverlabel": {
           "align": "left"
          },
          "hovermode": "closest",
          "mapbox": {
           "style": "light"
          },
          "paper_bgcolor": "white",
          "plot_bgcolor": "#E5ECF6",
          "polar": {
           "angularaxis": {
            "gridcolor": "white",
            "linecolor": "white",
            "ticks": ""
           },
           "bgcolor": "#E5ECF6",
           "radialaxis": {
            "gridcolor": "white",
            "linecolor": "white",
            "ticks": ""
           }
          },
          "scene": {
           "xaxis": {
            "backgroundcolor": "#E5ECF6",
            "gridcolor": "white",
            "gridwidth": 2,
            "linecolor": "white",
            "showbackground": true,
            "ticks": "",
            "zerolinecolor": "white"
           },
           "yaxis": {
            "backgroundcolor": "#E5ECF6",
            "gridcolor": "white",
            "gridwidth": 2,
            "linecolor": "white",
            "showbackground": true,
            "ticks": "",
            "zerolinecolor": "white"
           },
           "zaxis": {
            "backgroundcolor": "#E5ECF6",
            "gridcolor": "white",
            "gridwidth": 2,
            "linecolor": "white",
            "showbackground": true,
            "ticks": "",
            "zerolinecolor": "white"
           }
          },
          "shapedefaults": {
           "line": {
            "color": "#2a3f5f"
           }
          },
          "ternary": {
           "aaxis": {
            "gridcolor": "white",
            "linecolor": "white",
            "ticks": ""
           },
           "baxis": {
            "gridcolor": "white",
            "linecolor": "white",
            "ticks": ""
           },
           "bgcolor": "#E5ECF6",
           "caxis": {
            "gridcolor": "white",
            "linecolor": "white",
            "ticks": ""
           }
          },
          "title": {
           "x": 0.05
          },
          "xaxis": {
           "automargin": true,
           "gridcolor": "white",
           "linecolor": "white",
           "ticks": "",
           "title": {
            "standoff": 15
           },
           "zerolinecolor": "white",
           "zerolinewidth": 2
          },
          "yaxis": {
           "automargin": true,
           "gridcolor": "white",
           "linecolor": "white",
           "ticks": "",
           "title": {
            "standoff": 15
           },
           "zerolinecolor": "white",
           "zerolinewidth": 2
          }
         }
        },
        "xaxis": {
         "anchor": "y",
         "domain": [
          0.0,
          1.0
         ],
         "title": {
          "text": "County Name"
         }
        },
        "yaxis": {
         "anchor": "x",
         "domain": [
          0.0,
          1.0
         ],
         "title": {
          "text": "Population"
         }
        }
       }
      },
      "text/html": "<div>                            <div id=\"33e5abf0-c0ed-4a6c-9dd1-e06bf36784a0\" class=\"plotly-graph-div\" style=\"height:525px; width:100%;\"></div>            <script type=\"text/javascript\">                require([\"plotly\"], function(Plotly) {                    window.PLOTLYENV=window.PLOTLYENV || {};                                    if (document.getElementById(\"33e5abf0-c0ed-4a6c-9dd1-e06bf36784a0\")) {                    Plotly.newPlot(                        \"33e5abf0-c0ed-4a6c-9dd1-e06bf36784a0\",                        [{\"alignmentgroup\": \"True\", \"hovertemplate\": \"Race/Ethnicity Description=POC<br>County Name=%{x}<br>Population=%{y}<extra></extra>\", \"legendgroup\": \"POC\", \"marker\": {\"color\": \"#636efa\"}, \"name\": \"POC\", \"offsetgroup\": \"POC\", \"orientation\": \"v\", \"showlegend\": true, \"textposition\": \"auto\", \"type\": \"bar\", \"x\": [\"Hamilton\", \"Schuyler\", \"Lewis\", \"Yates\", \"Schoharie\", \"Tioga\", \"Chenango\", \"Allegany\", \"Herkimer\", \"Cortland\", \"Essex\", \"Warren\", \"Delaware\", \"Fulton\", \"Seneca\", \"Madison\", \"Washington\", \"Otsego\", \"Wyoming\", \"Genesee\", \"Steuben\", \"Livingston\", \"Oswego\", \"Orleans\", \"Cattaraugus\", \"Greene\", \"Cayuga\", \"Clinton\", \"Columbia\", \"Montgomery\", \"St Lawrence\", \"Wayne\", \"Ontario\", \"Franklin\", \"Chemung\", \"Chautauqua\", \"Saratoga\", \"Putnam\", \"Jefferson\", \"Sullivan\", \"Tompkins\", \"Rensselaer\", \"Broome\", \"Niagara\", \"Schenectady\", \"Ulster\", \"Oneida\", \"Albany\", \"Dutchess\", \"Onondaga\", \"Rockland\", \"Orange\", \"Richmond\", \"Monroe\", \"Erie\", \"Westchester\", \"Suffolk\", \"Nassau\", \"New York\", \"Bronx\", \"Queens\", \"Kings\", \"New York City\"], \"xaxis\": \"x\", \"y\": [152.86666666666667, 741.3333333333334, 783.2666666666667, 850.9333333333333, 1634.0, 1811.3333333333333, 1898.0, 2006.4, 2401.0, 2520.8, 2578.0666666666666, 2716.4, 2896.8, 3079.4, 3239.133333333333, 3655.0666666666666, 3967.8, 3994.866666666667, 4007.3333333333335, 4286.333333333333, 4702.333333333333, 4794.0, 5045.466666666666, 5170.733333333334, 5673.666666666667, 6069.6, 6251.733333333334, 6684.4, 6717.533333333334, 6815.733333333334, 7317.4, 7442.133333333333, 7964.533333333334, 8837.466666666667, 9782.466666666667, 12896.066666666668, 14698.066666666668, 16341.8, 16807.266666666666, 18309.466666666667, 19593.8, 20302.6, 24309.8, 24762.8, 30654.866666666665, 30802.266666666666, 32316.533333333333, 68703.0, 71326.4, 87964.46666666666, 103480.86666666667, 114553.33333333333, 163855.33333333334, 189507.33333333334, 195983.46666666667, 397689.13333333336, 405075.4, 452765.06666666665, 832021.9333333333, 1238669.3333333333, 1614555.1333333333, 1624995.5333333334, 5474097.266666667], \"yaxis\": \"y\"}, {\"alignmentgroup\": \"True\", \"hovertemplate\": \"Race/Ethnicity Description=White Non Hispanic<br>County Name=%{x}<br>Population=%{y}<extra></extra>\", \"legendgroup\": \"White Non Hispanic\", \"marker\": {\"color\": \"#EF553B\"}, \"name\": \"White Non Hispanic\", \"offsetgroup\": \"White Non Hispanic\", \"orientation\": \"v\", \"showlegend\": true, \"textposition\": \"auto\", \"type\": \"bar\", \"x\": [\"Hamilton\", \"Schuyler\", \"Yates\", \"Lewis\", \"Schoharie\", \"Seneca\", \"Essex\", \"Orleans\", \"Wyoming\", \"Franklin\", \"Montgomery\", \"Greene\", \"Delaware\", \"Cortland\", \"Allegany\", \"Chenango\", \"Tioga\", \"Fulton\", \"Genesee\", \"Columbia\", \"Otsego\", \"Sullivan\", \"Washington\", \"Livingston\", \"Herkimer\", \"Warren\", \"Madison\", \"Cayuga\", \"Cattaraugus\", \"Clinton\", \"Chemung\", \"Tompkins\", \"Putnam\", \"Wayne\", \"Steuben\", \"Ontario\", \"Jefferson\", \"St Lawrence\", \"Oswego\", \"Chautauqua\", \"Schenectady\", \"Rensselaer\", \"Ulster\", \"Bronx\", \"Broome\", \"Niagara\", \"Oneida\", \"Saratoga\", \"Rockland\", \"Dutchess\", \"Albany\", \"Orange\", \"Richmond\", \"Onondaga\", \"Monroe\", \"Westchester\", \"Queens\", \"Erie\", \"New York\", \"Nassau\", \"Kings\", \"Suffolk\", \"New York City\"], \"xaxis\": \"x\", \"y\": [4750.333333333333, 17978.266666666666, 24082.666666666668, 25975.8, 30271.0, 31584.533333333333, 35977.8, 37322.26666666667, 37806.86666666667, 42188.53333333333, 42561.066666666666, 42638.53333333333, 43746.2, 46145.333333333336, 46914.13333333333, 48404.0, 48607.26666666667, 51783.53333333333, 54756.8, 55632.333333333336, 57706.933333333334, 57791.6, 58685.6, 59500.2, 60981.2, 62670.6, 67595.26666666666, 73556.4, 74331.6, 75014.8, 78518.6, 82718.8, 83316.53333333334, 84947.26666666666, 93276.0, 98829.93333333333, 99830.6, 103665.73333333334, 116532.73333333334, 120783.2, 122009.26666666666, 137241.13333333333, 150548.06666666668, 163693.6, 172624.0, 190192.53333333333, 200785.53333333333, 205338.4, 205902.66666666666, 223710.93333333332, 234173.46666666667, 261187.26666666666, 310251.8, 374303.8, 551455.8666666667, 560540.0666666667, 667405.9333333333, 726025.9333333333, 783933.7333333333, 893223.4666666667, 930083.9333333333, 1085148.8, 2855369.0], \"yaxis\": \"y\"}],                        {\"barmode\": \"stack\", \"legend\": {\"title\": {\"text\": \"Race/Ethnicity Description\"}, \"tracegroupgap\": 0}, \"margin\": {\"t\": 60}, \"template\": {\"data\": {\"bar\": [{\"error_x\": {\"color\": \"#2a3f5f\"}, \"error_y\": {\"color\": \"#2a3f5f\"}, \"marker\": {\"line\": {\"color\": \"#E5ECF6\", \"width\": 0.5}}, \"type\": \"bar\"}], \"barpolar\": [{\"marker\": {\"line\": {\"color\": \"#E5ECF6\", \"width\": 0.5}}, \"type\": \"barpolar\"}], \"carpet\": [{\"aaxis\": {\"endlinecolor\": \"#2a3f5f\", \"gridcolor\": \"white\", \"linecolor\": \"white\", \"minorgridcolor\": \"white\", \"startlinecolor\": \"#2a3f5f\"}, \"baxis\": {\"endlinecolor\": \"#2a3f5f\", \"gridcolor\": \"white\", \"linecolor\": \"white\", \"minorgridcolor\": \"white\", \"startlinecolor\": \"#2a3f5f\"}, \"type\": \"carpet\"}], \"choropleth\": [{\"colorbar\": {\"outlinewidth\": 0, \"ticks\": \"\"}, \"type\": \"choropleth\"}], \"contour\": [{\"colorbar\": {\"outlinewidth\": 0, \"ticks\": \"\"}, \"colorscale\": [[0.0, \"#0d0887\"], [0.1111111111111111, \"#46039f\"], [0.2222222222222222, \"#7201a8\"], [0.3333333333333333, \"#9c179e\"], [0.4444444444444444, \"#bd3786\"], [0.5555555555555556, \"#d8576b\"], [0.6666666666666666, \"#ed7953\"], [0.7777777777777778, \"#fb9f3a\"], [0.8888888888888888, \"#fdca26\"], [1.0, \"#f0f921\"]], \"type\": \"contour\"}], \"contourcarpet\": [{\"colorbar\": {\"outlinewidth\": 0, \"ticks\": \"\"}, \"type\": \"contourcarpet\"}], \"heatmap\": [{\"colorbar\": {\"outlinewidth\": 0, \"ticks\": \"\"}, \"colorscale\": [[0.0, \"#0d0887\"], [0.1111111111111111, \"#46039f\"], [0.2222222222222222, \"#7201a8\"], [0.3333333333333333, \"#9c179e\"], [0.4444444444444444, \"#bd3786\"], [0.5555555555555556, \"#d8576b\"], [0.6666666666666666, \"#ed7953\"], [0.7777777777777778, \"#fb9f3a\"], [0.8888888888888888, \"#fdca26\"], [1.0, \"#f0f921\"]], \"type\": \"heatmap\"}], \"heatmapgl\": [{\"colorbar\": {\"outlinewidth\": 0, \"ticks\": \"\"}, \"colorscale\": [[0.0, \"#0d0887\"], [0.1111111111111111, \"#46039f\"], [0.2222222222222222, \"#7201a8\"], [0.3333333333333333, \"#9c179e\"], [0.4444444444444444, \"#bd3786\"], [0.5555555555555556, \"#d8576b\"], [0.6666666666666666, \"#ed7953\"], [0.7777777777777778, \"#fb9f3a\"], [0.8888888888888888, \"#fdca26\"], [1.0, \"#f0f921\"]], \"type\": \"heatmapgl\"}], \"histogram\": [{\"marker\": {\"colorbar\": {\"outlinewidth\": 0, \"ticks\": \"\"}}, \"type\": \"histogram\"}], \"histogram2d\": [{\"colorbar\": {\"outlinewidth\": 0, \"ticks\": \"\"}, \"colorscale\": [[0.0, \"#0d0887\"], [0.1111111111111111, \"#46039f\"], [0.2222222222222222, \"#7201a8\"], [0.3333333333333333, \"#9c179e\"], [0.4444444444444444, \"#bd3786\"], [0.5555555555555556, \"#d8576b\"], [0.6666666666666666, \"#ed7953\"], [0.7777777777777778, \"#fb9f3a\"], [0.8888888888888888, \"#fdca26\"], [1.0, \"#f0f921\"]], \"type\": \"histogram2d\"}], \"histogram2dcontour\": [{\"colorbar\": {\"outlinewidth\": 0, \"ticks\": \"\"}, \"colorscale\": [[0.0, \"#0d0887\"], [0.1111111111111111, \"#46039f\"], [0.2222222222222222, \"#7201a8\"], [0.3333333333333333, \"#9c179e\"], [0.4444444444444444, \"#bd3786\"], [0.5555555555555556, \"#d8576b\"], [0.6666666666666666, \"#ed7953\"], [0.7777777777777778, \"#fb9f3a\"], [0.8888888888888888, \"#fdca26\"], [1.0, \"#f0f921\"]], \"type\": \"histogram2dcontour\"}], \"mesh3d\": [{\"colorbar\": {\"outlinewidth\": 0, \"ticks\": \"\"}, \"type\": \"mesh3d\"}], \"parcoords\": [{\"line\": {\"colorbar\": {\"outlinewidth\": 0, \"ticks\": \"\"}}, \"type\": \"parcoords\"}], \"pie\": [{\"automargin\": true, \"type\": \"pie\"}], \"scatter\": [{\"marker\": {\"colorbar\": {\"outlinewidth\": 0, \"ticks\": \"\"}}, \"type\": \"scatter\"}], \"scatter3d\": [{\"line\": {\"colorbar\": {\"outlinewidth\": 0, \"ticks\": \"\"}}, \"marker\": {\"colorbar\": {\"outlinewidth\": 0, \"ticks\": \"\"}}, \"type\": \"scatter3d\"}], \"scattercarpet\": [{\"marker\": {\"colorbar\": {\"outlinewidth\": 0, \"ticks\": \"\"}}, \"type\": \"scattercarpet\"}], \"scattergeo\": [{\"marker\": {\"colorbar\": {\"outlinewidth\": 0, \"ticks\": \"\"}}, \"type\": \"scattergeo\"}], \"scattergl\": [{\"marker\": {\"colorbar\": {\"outlinewidth\": 0, \"ticks\": \"\"}}, \"type\": \"scattergl\"}], \"scattermapbox\": [{\"marker\": {\"colorbar\": {\"outlinewidth\": 0, \"ticks\": \"\"}}, \"type\": \"scattermapbox\"}], \"scatterpolar\": [{\"marker\": {\"colorbar\": {\"outlinewidth\": 0, \"ticks\": \"\"}}, \"type\": \"scatterpolar\"}], \"scatterpolargl\": [{\"marker\": {\"colorbar\": {\"outlinewidth\": 0, \"ticks\": \"\"}}, \"type\": \"scatterpolargl\"}], \"scatterternary\": [{\"marker\": {\"colorbar\": {\"outlinewidth\": 0, \"ticks\": \"\"}}, \"type\": \"scatterternary\"}], \"surface\": [{\"colorbar\": {\"outlinewidth\": 0, \"ticks\": \"\"}, \"colorscale\": [[0.0, \"#0d0887\"], [0.1111111111111111, \"#46039f\"], [0.2222222222222222, \"#7201a8\"], [0.3333333333333333, \"#9c179e\"], [0.4444444444444444, \"#bd3786\"], [0.5555555555555556, \"#d8576b\"], [0.6666666666666666, \"#ed7953\"], [0.7777777777777778, \"#fb9f3a\"], [0.8888888888888888, \"#fdca26\"], [1.0, \"#f0f921\"]], \"type\": \"surface\"}], \"table\": [{\"cells\": {\"fill\": {\"color\": \"#EBF0F8\"}, \"line\": {\"color\": \"white\"}}, \"header\": {\"fill\": {\"color\": \"#C8D4E3\"}, \"line\": {\"color\": \"white\"}}, \"type\": \"table\"}]}, \"layout\": {\"annotationdefaults\": {\"arrowcolor\": \"#2a3f5f\", \"arrowhead\": 0, \"arrowwidth\": 1}, \"autotypenumbers\": \"strict\", \"coloraxis\": {\"colorbar\": {\"outlinewidth\": 0, \"ticks\": \"\"}}, \"colorscale\": {\"diverging\": [[0, \"#8e0152\"], [0.1, \"#c51b7d\"], [0.2, \"#de77ae\"], [0.3, \"#f1b6da\"], [0.4, \"#fde0ef\"], [0.5, \"#f7f7f7\"], [0.6, \"#e6f5d0\"], [0.7, \"#b8e186\"], [0.8, \"#7fbc41\"], [0.9, \"#4d9221\"], [1, \"#276419\"]], \"sequential\": [[0.0, \"#0d0887\"], [0.1111111111111111, \"#46039f\"], [0.2222222222222222, \"#7201a8\"], [0.3333333333333333, \"#9c179e\"], [0.4444444444444444, \"#bd3786\"], [0.5555555555555556, \"#d8576b\"], [0.6666666666666666, \"#ed7953\"], [0.7777777777777778, \"#fb9f3a\"], [0.8888888888888888, \"#fdca26\"], [1.0, \"#f0f921\"]], \"sequentialminus\": [[0.0, \"#0d0887\"], [0.1111111111111111, \"#46039f\"], [0.2222222222222222, \"#7201a8\"], [0.3333333333333333, \"#9c179e\"], [0.4444444444444444, \"#bd3786\"], [0.5555555555555556, \"#d8576b\"], [0.6666666666666666, \"#ed7953\"], [0.7777777777777778, \"#fb9f3a\"], [0.8888888888888888, \"#fdca26\"], [1.0, \"#f0f921\"]]}, \"colorway\": [\"#636efa\", \"#EF553B\", \"#00cc96\", \"#ab63fa\", \"#FFA15A\", \"#19d3f3\", \"#FF6692\", \"#B6E880\", \"#FF97FF\", \"#FECB52\"], \"font\": {\"color\": \"#2a3f5f\"}, \"geo\": {\"bgcolor\": \"white\", \"lakecolor\": \"white\", \"landcolor\": \"#E5ECF6\", \"showlakes\": true, \"showland\": true, \"subunitcolor\": \"white\"}, \"hoverlabel\": {\"align\": \"left\"}, \"hovermode\": \"closest\", \"mapbox\": {\"style\": \"light\"}, \"paper_bgcolor\": \"white\", \"plot_bgcolor\": \"#E5ECF6\", \"polar\": {\"angularaxis\": {\"gridcolor\": \"white\", \"linecolor\": \"white\", \"ticks\": \"\"}, \"bgcolor\": \"#E5ECF6\", \"radialaxis\": {\"gridcolor\": \"white\", \"linecolor\": \"white\", \"ticks\": \"\"}}, \"scene\": {\"xaxis\": {\"backgroundcolor\": \"#E5ECF6\", \"gridcolor\": \"white\", \"gridwidth\": 2, \"linecolor\": \"white\", \"showbackground\": true, \"ticks\": \"\", \"zerolinecolor\": \"white\"}, \"yaxis\": {\"backgroundcolor\": \"#E5ECF6\", \"gridcolor\": \"white\", \"gridwidth\": 2, \"linecolor\": \"white\", \"showbackground\": true, \"ticks\": \"\", \"zerolinecolor\": \"white\"}, \"zaxis\": {\"backgroundcolor\": \"#E5ECF6\", \"gridcolor\": \"white\", \"gridwidth\": 2, \"linecolor\": \"white\", \"showbackground\": true, \"ticks\": \"\", \"zerolinecolor\": \"white\"}}, \"shapedefaults\": {\"line\": {\"color\": \"#2a3f5f\"}}, \"ternary\": {\"aaxis\": {\"gridcolor\": \"white\", \"linecolor\": \"white\", \"ticks\": \"\"}, \"baxis\": {\"gridcolor\": \"white\", \"linecolor\": \"white\", \"ticks\": \"\"}, \"bgcolor\": \"#E5ECF6\", \"caxis\": {\"gridcolor\": \"white\", \"linecolor\": \"white\", \"ticks\": \"\"}}, \"title\": {\"x\": 0.05}, \"xaxis\": {\"automargin\": true, \"gridcolor\": \"white\", \"linecolor\": \"white\", \"ticks\": \"\", \"title\": {\"standoff\": 15}, \"zerolinecolor\": \"white\", \"zerolinewidth\": 2}, \"yaxis\": {\"automargin\": true, \"gridcolor\": \"white\", \"linecolor\": \"white\", \"ticks\": \"\", \"title\": {\"standoff\": 15}, \"zerolinecolor\": \"white\", \"zerolinewidth\": 2}}}, \"xaxis\": {\"anchor\": \"y\", \"domain\": [0.0, 1.0], \"title\": {\"text\": \"County Name\"}}, \"yaxis\": {\"anchor\": \"x\", \"domain\": [0.0, 1.0], \"title\": {\"text\": \"Population\"}}},                        {\"responsive\": true}                    ).then(function(){\n                            \nvar gd = document.getElementById('33e5abf0-c0ed-4a6c-9dd1-e06bf36784a0');\nvar x = new MutationObserver(function (mutations, observer) {{\n        var display = window.getComputedStyle(gd).display;\n        if (!display || display === 'none') {{\n            console.log([gd, 'removed!']);\n            Plotly.purge(gd);\n            observer.disconnect();\n        }}\n}});\n\n// Listen for the removal of the full notebook cells\nvar notebookContainer = gd.closest('#notebook-container');\nif (notebookContainer) {{\n    x.observe(notebookContainer, {childList: true});\n}}\n\n// Listen for the clearing of the current output cell\nvar outputEl = gd.closest('.output');\nif (outputEl) {{\n    x.observe(outputEl, {childList: true});\n}}\n\n                        })                };                });            </script>        </div>"
     },
     "metadata": {},
     "output_type": "display_data"
    }
   ],
   "source": [
    "#avg population over all the years\n",
    "ny_pop.loc[ny_pop[\"Race/Ethnicity Description\"] != \"White Non Hispanic\", \"Race/Ethnicity Description\" ] = \"POC\"\n",
    "ny_pop = ny_pop[(ny_pop[\"County Name\"] != \"New York State\") & (ny_pop[\"County Name\"] != \"Rest of State\") ]\n",
    "ny_pop_grouped = ny_pop.groupby(by=[\"Year\", \"County Name\",\"Race/Ethnicity Description\"])[\"Population\"].sum().reset_index().groupby(by=[\"County Name\",\"Race/Ethnicity Description\"])[\"Population\"].mean()\n",
    "ny_pop_grouped_reindex =    ny_pop_grouped.reset_index().sort_values(by=[\"Population\"])\n",
    "fig = px.bar(ny_pop_grouped_reindex, x=\"County Name\", y=\"Population\", color=\"Race/Ethnicity Description\",\n",
    "             barmode = 'stack')\n",
    "\n",
    "fig.show()\n"
   ],
   "metadata": {
    "collapsed": false,
    "pycharm": {
     "name": "#%%\n"
    }
   }
  },
  {
   "cell_type": "code",
   "execution_count": 103,
   "outputs": [],
   "source": [
    "total_nyc_pop = ny_pop_grouped_reindex.Population.sum()\n",
    "total_poc_pop = ny_pop_grouped_reindex[ny_pop_grouped_reindex[\"Race/Ethnicity Description\"] == \"POC\"].Population.sum()\n",
    "total_white_pop = total_nyc_pop - total_poc_pop\n",
    "# print(total_nyc_pop,total_poc_pop/total_nyc_pop, total_white_pop/total_nyc_pop)\n",
    "county_dist_perc = ny_pop_grouped / ny_pop_grouped_reindex.groupby(by=\"County Name\").Population.sum()\n",
    "county_dist_perc_indxed = county_dist_perc.reset_index()\n",
    "std_county_pop_perc = county_dist_perc_indxed.Population.std()"
   ],
   "metadata": {
    "collapsed": false,
    "pycharm": {
     "name": "#%%\n"
    }
   }
  },
  {
   "cell_type": "markdown",
   "source": [
    "#Asset 1\n",
    "\n",
    "This visualization lists the different counties of New York State and their population attributes. A point to focus on is that counties are separated into People of Color (POC) and White Non-Hispanic (WNH).\n",
    "The POC category is based on counties having a population of POC one standard deviations above the mean POC population of New York State. WNH counties are categorized as counties having a WNH population 0.5 standard deviations above the mean WNH population of New York State.\n",
    "I took one standard deviations as my bar as I wanted to look at counties with robust differences in racial/ethnic makeup. One sees that there are 31 WNH counties as compared to just 1 POC counties while the total population is very similar."
   ],
   "metadata": {
    "collapsed": false,
    "pycharm": {
     "name": "#%% md\n"
    }
   }
  },
  {
   "cell_type": "code",
   "execution_count": 104,
   "outputs": [
    {
     "name": "stdout",
     "output_type": "stream",
     "text": [
      "    County Name Race/Ethnicity Description  Population_perc    Population\n",
      "0      Allegany         White Non Hispanic         0.958987  4.691413e+04\n",
      "1         Bronx                        POC         0.883273  1.238669e+06\n",
      "2   Cattaraugus         White Non Hispanic         0.929084  7.433160e+04\n",
      "3        Cayuga         White Non Hispanic         0.921665  7.355640e+04\n",
      "4    Chautauqua         White Non Hispanic         0.903530  1.207832e+05\n",
      "5      Chenango         White Non Hispanic         0.962268  4.840400e+04\n",
      "6       Clinton         White Non Hispanic         0.918183  7.501480e+04\n",
      "7      Cortland         White Non Hispanic         0.948202  4.614533e+04\n",
      "8      Delaware         White Non Hispanic         0.937894  4.374620e+04\n",
      "9         Essex         White Non Hispanic         0.933134  3.597780e+04\n",
      "10       Fulton         White Non Hispanic         0.943871  5.178353e+04\n",
      "11      Genesee         White Non Hispanic         0.927403  5.475680e+04\n",
      "12     Hamilton         White Non Hispanic         0.968823  4.750333e+03\n",
      "13     Herkimer         White Non Hispanic         0.962119  6.098120e+04\n",
      "14        Lewis         White Non Hispanic         0.970729  2.597580e+04\n",
      "15   Livingston         White Non Hispanic         0.925437  5.950020e+04\n",
      "16      Madison         White Non Hispanic         0.948701  6.759527e+04\n",
      "17      Ontario         White Non Hispanic         0.925422  9.882993e+04\n",
      "18       Oswego         White Non Hispanic         0.958500  1.165327e+05\n",
      "19       Otsego         White Non Hispanic         0.935255  5.770693e+04\n",
      "20     Saratoga         White Non Hispanic         0.933202  2.053384e+05\n",
      "21    Schoharie         White Non Hispanic         0.948785  3.027100e+04\n",
      "22     Schuyler         White Non Hispanic         0.960398  1.797827e+04\n",
      "23       Seneca         White Non Hispanic         0.906985  3.158453e+04\n",
      "24  St Lawrence         White Non Hispanic         0.934067  1.036657e+05\n",
      "25      Steuben         White Non Hispanic         0.952006  9.327600e+04\n",
      "26        Tioga         White Non Hispanic         0.964074  4.860727e+04\n",
      "27       Warren         White Non Hispanic         0.958457  6.267060e+04\n",
      "28   Washington         White Non Hispanic         0.936671  5.868560e+04\n",
      "29        Wayne         White Non Hispanic         0.919448  8.494727e+04\n",
      "30      Wyoming         White Non Hispanic         0.904163  3.780687e+04\n",
      "31        Yates         White Non Hispanic         0.965872  2.408267e+04\n",
      "                           Population              \n",
      "                                count           sum\n",
      "Race/Ethnicity Description                         \n",
      "POC                                 1  1.238669e+06\n",
      "White Non Hispanic                 31  1.962200e+06\n"
     ]
    }
   ],
   "source": [
    "top_counties = county_dist_perc_indxed[((county_dist_perc_indxed[\"Race/Ethnicity Description\"] == \"POC\")  &\n",
    "                        (county_dist_perc_indxed[\"Population\"] > (total_poc_pop/total_nyc_pop + std_county_pop_perc))) |\n",
    "                        ((county_dist_perc_indxed[\"Race/Ethnicity Description\"] != \"POC\")  &\n",
    "                        (county_dist_perc_indxed[\"Population\"] > (total_white_pop/total_nyc_pop + std_county_pop_perc)))]\n",
    "\n",
    "top_counties = pd.merge(top_counties,ny_pop_grouped_reindex,on=[\"County Name\",\"Race/Ethnicity Description\"], how=\"inner\",suffixes=[\"_perc\",\"\"])\n",
    "top_counties_trimmed = top_counties#[top_counties[\"Population\"] > 3e+05]\n",
    "print(top_counties_trimmed)\n",
    "print(top_counties_trimmed.groupby(by=\"Race/Ethnicity Description\").agg({'Population': ['count', 'sum']}))\n"
   ],
   "metadata": {
    "collapsed": false,
    "pycharm": {
     "name": "#%%\n"
    }
   }
  },
  {
   "cell_type": "markdown",
   "source": [
    "The same analysis as above but with 0.5 standard deviation above the mean. We see the same trend that the number counties categorized as WNH is greater than POC."
   ],
   "metadata": {
    "collapsed": false,
    "pycharm": {
     "name": "#%% md\n"
    }
   }
  },
  {
   "cell_type": "code",
   "execution_count": 105,
   "outputs": [
    {
     "name": "stdout",
     "output_type": "stream",
     "text": [
      "    County Name Race/Ethnicity Description  Population_perc    Population\n",
      "0        Albany         White Non Hispanic         0.773165  2.341735e+05\n",
      "1      Allegany         White Non Hispanic         0.958987  4.691413e+04\n",
      "2         Bronx                        POC         0.883273  1.238669e+06\n",
      "3        Broome         White Non Hispanic         0.876559  1.726240e+05\n",
      "4   Cattaraugus         White Non Hispanic         0.929084  7.433160e+04\n",
      "5        Cayuga         White Non Hispanic         0.921665  7.355640e+04\n",
      "6    Chautauqua         White Non Hispanic         0.903530  1.207832e+05\n",
      "7       Chemung         White Non Hispanic         0.889215  7.851860e+04\n",
      "8      Chenango         White Non Hispanic         0.962268  4.840400e+04\n",
      "9       Clinton         White Non Hispanic         0.918183  7.501480e+04\n",
      "10     Columbia         White Non Hispanic         0.892261  5.563233e+04\n",
      "11     Cortland         White Non Hispanic         0.948202  4.614533e+04\n",
      "12     Delaware         White Non Hispanic         0.937894  4.374620e+04\n",
      "13     Dutchess         White Non Hispanic         0.758246  2.237109e+05\n",
      "14         Erie         White Non Hispanic         0.787439  7.260259e+05\n",
      "15        Essex         White Non Hispanic         0.933134  3.597780e+04\n",
      "16     Franklin         White Non Hispanic         0.826805  4.218853e+04\n",
      "17       Fulton         White Non Hispanic         0.943871  5.178353e+04\n",
      "18      Genesee         White Non Hispanic         0.927403  5.475680e+04\n",
      "19       Greene         White Non Hispanic         0.875388  4.263853e+04\n",
      "20     Hamilton         White Non Hispanic         0.968823  4.750333e+03\n",
      "21     Herkimer         White Non Hispanic         0.962119  6.098120e+04\n",
      "22    Jefferson         White Non Hispanic         0.855902  9.983060e+04\n",
      "23        Lewis         White Non Hispanic         0.970729  2.597580e+04\n",
      "24   Livingston         White Non Hispanic         0.925437  5.950020e+04\n",
      "25      Madison         White Non Hispanic         0.948701  6.759527e+04\n",
      "26       Monroe         White Non Hispanic         0.744242  5.514559e+05\n",
      "27   Montgomery         White Non Hispanic         0.861965  4.256107e+04\n",
      "28      Niagara         White Non Hispanic         0.884800  1.901925e+05\n",
      "29       Oneida         White Non Hispanic         0.861363  2.007855e+05\n",
      "30     Onondaga         White Non Hispanic         0.809711  3.743038e+05\n",
      "31      Ontario         White Non Hispanic         0.925422  9.882993e+04\n",
      "32      Orleans         White Non Hispanic         0.878316  3.732227e+04\n",
      "33       Oswego         White Non Hispanic         0.958500  1.165327e+05\n",
      "34       Otsego         White Non Hispanic         0.935255  5.770693e+04\n",
      "35       Putnam         White Non Hispanic         0.836022  8.331653e+04\n",
      "36       Queens                        POC         0.707530  1.614555e+06\n",
      "37   Rensselaer         White Non Hispanic         0.871130  1.372411e+05\n",
      "38     Saratoga         White Non Hispanic         0.933202  2.053384e+05\n",
      "39  Schenectady         White Non Hispanic         0.799201  1.220093e+05\n",
      "40    Schoharie         White Non Hispanic         0.948785  3.027100e+04\n",
      "41     Schuyler         White Non Hispanic         0.960398  1.797827e+04\n",
      "42       Seneca         White Non Hispanic         0.906985  3.158453e+04\n",
      "43  St Lawrence         White Non Hispanic         0.934067  1.036657e+05\n",
      "44      Steuben         White Non Hispanic         0.952006  9.327600e+04\n",
      "45      Suffolk         White Non Hispanic         0.728178  1.085149e+06\n",
      "46     Sullivan         White Non Hispanic         0.759406  5.779160e+04\n",
      "47        Tioga         White Non Hispanic         0.964074  4.860727e+04\n",
      "48     Tompkins         White Non Hispanic         0.808491  8.271880e+04\n",
      "49       Ulster         White Non Hispanic         0.830150  1.505481e+05\n",
      "50       Warren         White Non Hispanic         0.958457  6.267060e+04\n",
      "51   Washington         White Non Hispanic         0.936671  5.868560e+04\n",
      "52        Wayne         White Non Hispanic         0.919448  8.494727e+04\n",
      "53      Wyoming         White Non Hispanic         0.904163  3.780687e+04\n",
      "54        Yates         White Non Hispanic         0.965872  2.408267e+04\n",
      "                           Population              \n",
      "                                count           sum\n",
      "Race/Ethnicity Description                         \n",
      "POC                                 2  2.853224e+06\n",
      "White Non Hispanic                 53  6.752939e+06\n"
     ]
    }
   ],
   "source": [
    "top_counties = county_dist_perc_indxed[((county_dist_perc_indxed[\"Race/Ethnicity Description\"] == \"POC\")  &\n",
    "                        (county_dist_perc_indxed[\"Population\"] > (total_poc_pop/total_nyc_pop + 0.5*std_county_pop_perc))) |\n",
    "                        ((county_dist_perc_indxed[\"Race/Ethnicity Description\"] != \"POC\")  &\n",
    "                        (county_dist_perc_indxed[\"Population\"] > (total_white_pop/total_nyc_pop + 0.5*std_county_pop_perc)))]\n",
    "\n",
    "top_counties = pd.merge(top_counties,ny_pop_grouped_reindex,on=[\"County Name\",\"Race/Ethnicity Description\"], how=\"inner\",suffixes=[\"_perc\",\"\"])\n",
    "top_counties_trimmed = top_counties#[top_counties[\"Population\"] > 3e+05]\n",
    "print(top_counties_trimmed)\n",
    "print(top_counties_trimmed.groupby(by=\"Race/Ethnicity Description\").agg({'Population': ['count', 'sum']}))"
   ],
   "metadata": {
    "collapsed": false,
    "pycharm": {
     "name": "#%%\n"
    }
   }
  },
  {
   "cell_type": "markdown",
   "source": [
    "#Asset 2\n",
    "\n",
    "This visualization looks at maternity beds/services available per 10000 people in counties categorized as POC and counties categorized as WNH.\n",
    "POC counties have an average of 1.4 maternity beds/services per 10000 people whereas WNH counties have 2 maternity beds/services per 10000 people. Both these numbers are low, but the visualization concludes that POC categorized counties have lesser number of maternity beds/services."
   ],
   "metadata": {
    "collapsed": false,
    "pycharm": {
     "name": "#%% md\n"
    }
   }
  },
  {
   "cell_type": "code",
   "execution_count": 106,
   "outputs": [
    {
     "data": {
      "application/vnd.plotly.v1+json": {
       "config": {
        "plotlyServerURL": "https://plot.ly"
       },
       "data": [
        {
         "alignmentgroup": "True",
         "hovertemplate": "Race/Ethnicity Description=White Non Hispanic<br>County=%{x}<br>att_value_pop=%{y}<extra></extra>",
         "legendgroup": "White Non Hispanic",
         "marker": {
          "color": "#636efa"
         },
         "name": "White Non Hispanic",
         "offsetgroup": "White Non Hispanic",
         "orientation": "v",
         "showlegend": true,
         "textposition": "auto",
         "type": "bar",
         "x": [
          "Saratoga",
          "Ulster",
          "Steuben",
          "Chautauqua",
          "Rensselaer",
          "Putnam",
          "Wyoming",
          "Fulton",
          "Cayuga",
          "Niagara",
          "Chenango",
          "Allegany",
          "Suffolk",
          "Wayne",
          "Livingston",
          "Oswego",
          "Otsego",
          "Madison",
          "Columbia",
          "Erie",
          "Genesee",
          "Montgomery",
          "Cattaraugus",
          "Dutchess",
          "Oneida",
          "Sullivan",
          "Onondaga",
          "Monroe",
          "Lewis",
          "Tompkins",
          "Ontario",
          "Clinton",
          "Franklin",
          "Chemung",
          "Cortland",
          "Schenectady",
          "Albany",
          "Broome",
          "Warren",
          "Jefferson"
         ],
         "xaxis": "x",
         "y": [
          0.6818013581483054,
          0.7306636507232905,
          0.7504609974698744,
          0.9107226832870797,
          1.0929667830392928,
          1.200241968780906,
          1.3225110782344653,
          1.3517810681130296,
          1.3595010087497486,
          1.3670357896980183,
          1.4461614742583258,
          1.4920876722295484,
          1.6034667319357492,
          1.6480812802295386,
          1.6806666196080013,
          1.7162559761463303,
          1.7328940254435052,
          1.775272233065629,
          1.79751583311863,
          1.8181168735111297,
          1.82625719545335,
          1.8796521390441343,
          1.8834519908087541,
          1.9221233115115222,
          2.0419797840681086,
          2.0764263318544565,
          2.1105850381428133,
          2.194191907530104,
          2.30984223777516,
          2.417830045890414,
          2.4284140634854894,
          2.7994475756783994,
          3.081406006055358,
          3.1839589600425886,
          3.2505995550290385,
          3.2784395065074294,
          3.288160742378442,
          3.4178329780331818,
          3.669982415997294,
          3.7062784356700247
         ],
         "yaxis": "y"
        },
        {
         "alignmentgroup": "True",
         "hovertemplate": "Race/Ethnicity Description=POC<br>County=%{x}<br>att_value_pop=%{y}<extra></extra>",
         "legendgroup": "POC",
         "marker": {
          "color": "#EF553B"
         },
         "name": "POC",
         "offsetgroup": "POC",
         "orientation": "v",
         "showlegend": true,
         "textposition": "auto",
         "type": "bar",
         "x": [
          "Queens",
          "Bronx"
         ],
         "xaxis": "x",
         "y": [
          1.0529216159316042,
          1.7680263336354498
         ],
         "yaxis": "y"
        }
       ],
       "layout": {
        "barmode": "stack",
        "legend": {
         "title": {
          "text": "Race/Ethnicity Description"
         },
         "tracegroupgap": 0
        },
        "margin": {
         "t": 60
        },
        "shapes": [
         {
          "line": {
           "color": "red"
          },
          "type": "line",
          "x0": 0,
          "x1": 1,
          "xref": "x domain",
          "y0": 1.4104739747835269,
          "y1": 1.4104739747835269,
          "yref": "y"
         },
         {
          "line": {
           "color": "blue"
          },
          "type": "line",
          "x0": 0,
          "x1": 1,
          "xref": "x domain",
          "y0": 2.0061266331686616,
          "y1": 2.0061266331686616,
          "yref": "y"
         }
        ],
        "template": {
         "data": {
          "bar": [
           {
            "error_x": {
             "color": "#2a3f5f"
            },
            "error_y": {
             "color": "#2a3f5f"
            },
            "marker": {
             "line": {
              "color": "#E5ECF6",
              "width": 0.5
             }
            },
            "type": "bar"
           }
          ],
          "barpolar": [
           {
            "marker": {
             "line": {
              "color": "#E5ECF6",
              "width": 0.5
             }
            },
            "type": "barpolar"
           }
          ],
          "carpet": [
           {
            "aaxis": {
             "endlinecolor": "#2a3f5f",
             "gridcolor": "white",
             "linecolor": "white",
             "minorgridcolor": "white",
             "startlinecolor": "#2a3f5f"
            },
            "baxis": {
             "endlinecolor": "#2a3f5f",
             "gridcolor": "white",
             "linecolor": "white",
             "minorgridcolor": "white",
             "startlinecolor": "#2a3f5f"
            },
            "type": "carpet"
           }
          ],
          "choropleth": [
           {
            "colorbar": {
             "outlinewidth": 0,
             "ticks": ""
            },
            "type": "choropleth"
           }
          ],
          "contour": [
           {
            "colorbar": {
             "outlinewidth": 0,
             "ticks": ""
            },
            "colorscale": [
             [
              0.0,
              "#0d0887"
             ],
             [
              0.1111111111111111,
              "#46039f"
             ],
             [
              0.2222222222222222,
              "#7201a8"
             ],
             [
              0.3333333333333333,
              "#9c179e"
             ],
             [
              0.4444444444444444,
              "#bd3786"
             ],
             [
              0.5555555555555556,
              "#d8576b"
             ],
             [
              0.6666666666666666,
              "#ed7953"
             ],
             [
              0.7777777777777778,
              "#fb9f3a"
             ],
             [
              0.8888888888888888,
              "#fdca26"
             ],
             [
              1.0,
              "#f0f921"
             ]
            ],
            "type": "contour"
           }
          ],
          "contourcarpet": [
           {
            "colorbar": {
             "outlinewidth": 0,
             "ticks": ""
            },
            "type": "contourcarpet"
           }
          ],
          "heatmap": [
           {
            "colorbar": {
             "outlinewidth": 0,
             "ticks": ""
            },
            "colorscale": [
             [
              0.0,
              "#0d0887"
             ],
             [
              0.1111111111111111,
              "#46039f"
             ],
             [
              0.2222222222222222,
              "#7201a8"
             ],
             [
              0.3333333333333333,
              "#9c179e"
             ],
             [
              0.4444444444444444,
              "#bd3786"
             ],
             [
              0.5555555555555556,
              "#d8576b"
             ],
             [
              0.6666666666666666,
              "#ed7953"
             ],
             [
              0.7777777777777778,
              "#fb9f3a"
             ],
             [
              0.8888888888888888,
              "#fdca26"
             ],
             [
              1.0,
              "#f0f921"
             ]
            ],
            "type": "heatmap"
           }
          ],
          "heatmapgl": [
           {
            "colorbar": {
             "outlinewidth": 0,
             "ticks": ""
            },
            "colorscale": [
             [
              0.0,
              "#0d0887"
             ],
             [
              0.1111111111111111,
              "#46039f"
             ],
             [
              0.2222222222222222,
              "#7201a8"
             ],
             [
              0.3333333333333333,
              "#9c179e"
             ],
             [
              0.4444444444444444,
              "#bd3786"
             ],
             [
              0.5555555555555556,
              "#d8576b"
             ],
             [
              0.6666666666666666,
              "#ed7953"
             ],
             [
              0.7777777777777778,
              "#fb9f3a"
             ],
             [
              0.8888888888888888,
              "#fdca26"
             ],
             [
              1.0,
              "#f0f921"
             ]
            ],
            "type": "heatmapgl"
           }
          ],
          "histogram": [
           {
            "marker": {
             "colorbar": {
              "outlinewidth": 0,
              "ticks": ""
             }
            },
            "type": "histogram"
           }
          ],
          "histogram2d": [
           {
            "colorbar": {
             "outlinewidth": 0,
             "ticks": ""
            },
            "colorscale": [
             [
              0.0,
              "#0d0887"
             ],
             [
              0.1111111111111111,
              "#46039f"
             ],
             [
              0.2222222222222222,
              "#7201a8"
             ],
             [
              0.3333333333333333,
              "#9c179e"
             ],
             [
              0.4444444444444444,
              "#bd3786"
             ],
             [
              0.5555555555555556,
              "#d8576b"
             ],
             [
              0.6666666666666666,
              "#ed7953"
             ],
             [
              0.7777777777777778,
              "#fb9f3a"
             ],
             [
              0.8888888888888888,
              "#fdca26"
             ],
             [
              1.0,
              "#f0f921"
             ]
            ],
            "type": "histogram2d"
           }
          ],
          "histogram2dcontour": [
           {
            "colorbar": {
             "outlinewidth": 0,
             "ticks": ""
            },
            "colorscale": [
             [
              0.0,
              "#0d0887"
             ],
             [
              0.1111111111111111,
              "#46039f"
             ],
             [
              0.2222222222222222,
              "#7201a8"
             ],
             [
              0.3333333333333333,
              "#9c179e"
             ],
             [
              0.4444444444444444,
              "#bd3786"
             ],
             [
              0.5555555555555556,
              "#d8576b"
             ],
             [
              0.6666666666666666,
              "#ed7953"
             ],
             [
              0.7777777777777778,
              "#fb9f3a"
             ],
             [
              0.8888888888888888,
              "#fdca26"
             ],
             [
              1.0,
              "#f0f921"
             ]
            ],
            "type": "histogram2dcontour"
           }
          ],
          "mesh3d": [
           {
            "colorbar": {
             "outlinewidth": 0,
             "ticks": ""
            },
            "type": "mesh3d"
           }
          ],
          "parcoords": [
           {
            "line": {
             "colorbar": {
              "outlinewidth": 0,
              "ticks": ""
             }
            },
            "type": "parcoords"
           }
          ],
          "pie": [
           {
            "automargin": true,
            "type": "pie"
           }
          ],
          "scatter": [
           {
            "marker": {
             "colorbar": {
              "outlinewidth": 0,
              "ticks": ""
             }
            },
            "type": "scatter"
           }
          ],
          "scatter3d": [
           {
            "line": {
             "colorbar": {
              "outlinewidth": 0,
              "ticks": ""
             }
            },
            "marker": {
             "colorbar": {
              "outlinewidth": 0,
              "ticks": ""
             }
            },
            "type": "scatter3d"
           }
          ],
          "scattercarpet": [
           {
            "marker": {
             "colorbar": {
              "outlinewidth": 0,
              "ticks": ""
             }
            },
            "type": "scattercarpet"
           }
          ],
          "scattergeo": [
           {
            "marker": {
             "colorbar": {
              "outlinewidth": 0,
              "ticks": ""
             }
            },
            "type": "scattergeo"
           }
          ],
          "scattergl": [
           {
            "marker": {
             "colorbar": {
              "outlinewidth": 0,
              "ticks": ""
             }
            },
            "type": "scattergl"
           }
          ],
          "scattermapbox": [
           {
            "marker": {
             "colorbar": {
              "outlinewidth": 0,
              "ticks": ""
             }
            },
            "type": "scattermapbox"
           }
          ],
          "scatterpolar": [
           {
            "marker": {
             "colorbar": {
              "outlinewidth": 0,
              "ticks": ""
             }
            },
            "type": "scatterpolar"
           }
          ],
          "scatterpolargl": [
           {
            "marker": {
             "colorbar": {
              "outlinewidth": 0,
              "ticks": ""
             }
            },
            "type": "scatterpolargl"
           }
          ],
          "scatterternary": [
           {
            "marker": {
             "colorbar": {
              "outlinewidth": 0,
              "ticks": ""
             }
            },
            "type": "scatterternary"
           }
          ],
          "surface": [
           {
            "colorbar": {
             "outlinewidth": 0,
             "ticks": ""
            },
            "colorscale": [
             [
              0.0,
              "#0d0887"
             ],
             [
              0.1111111111111111,
              "#46039f"
             ],
             [
              0.2222222222222222,
              "#7201a8"
             ],
             [
              0.3333333333333333,
              "#9c179e"
             ],
             [
              0.4444444444444444,
              "#bd3786"
             ],
             [
              0.5555555555555556,
              "#d8576b"
             ],
             [
              0.6666666666666666,
              "#ed7953"
             ],
             [
              0.7777777777777778,
              "#fb9f3a"
             ],
             [
              0.8888888888888888,
              "#fdca26"
             ],
             [
              1.0,
              "#f0f921"
             ]
            ],
            "type": "surface"
           }
          ],
          "table": [
           {
            "cells": {
             "fill": {
              "color": "#EBF0F8"
             },
             "line": {
              "color": "white"
             }
            },
            "header": {
             "fill": {
              "color": "#C8D4E3"
             },
             "line": {
              "color": "white"
             }
            },
            "type": "table"
           }
          ]
         },
         "layout": {
          "annotationdefaults": {
           "arrowcolor": "#2a3f5f",
           "arrowhead": 0,
           "arrowwidth": 1
          },
          "autotypenumbers": "strict",
          "coloraxis": {
           "colorbar": {
            "outlinewidth": 0,
            "ticks": ""
           }
          },
          "colorscale": {
           "diverging": [
            [
             0,
             "#8e0152"
            ],
            [
             0.1,
             "#c51b7d"
            ],
            [
             0.2,
             "#de77ae"
            ],
            [
             0.3,
             "#f1b6da"
            ],
            [
             0.4,
             "#fde0ef"
            ],
            [
             0.5,
             "#f7f7f7"
            ],
            [
             0.6,
             "#e6f5d0"
            ],
            [
             0.7,
             "#b8e186"
            ],
            [
             0.8,
             "#7fbc41"
            ],
            [
             0.9,
             "#4d9221"
            ],
            [
             1,
             "#276419"
            ]
           ],
           "sequential": [
            [
             0.0,
             "#0d0887"
            ],
            [
             0.1111111111111111,
             "#46039f"
            ],
            [
             0.2222222222222222,
             "#7201a8"
            ],
            [
             0.3333333333333333,
             "#9c179e"
            ],
            [
             0.4444444444444444,
             "#bd3786"
            ],
            [
             0.5555555555555556,
             "#d8576b"
            ],
            [
             0.6666666666666666,
             "#ed7953"
            ],
            [
             0.7777777777777778,
             "#fb9f3a"
            ],
            [
             0.8888888888888888,
             "#fdca26"
            ],
            [
             1.0,
             "#f0f921"
            ]
           ],
           "sequentialminus": [
            [
             0.0,
             "#0d0887"
            ],
            [
             0.1111111111111111,
             "#46039f"
            ],
            [
             0.2222222222222222,
             "#7201a8"
            ],
            [
             0.3333333333333333,
             "#9c179e"
            ],
            [
             0.4444444444444444,
             "#bd3786"
            ],
            [
             0.5555555555555556,
             "#d8576b"
            ],
            [
             0.6666666666666666,
             "#ed7953"
            ],
            [
             0.7777777777777778,
             "#fb9f3a"
            ],
            [
             0.8888888888888888,
             "#fdca26"
            ],
            [
             1.0,
             "#f0f921"
            ]
           ]
          },
          "colorway": [
           "#636efa",
           "#EF553B",
           "#00cc96",
           "#ab63fa",
           "#FFA15A",
           "#19d3f3",
           "#FF6692",
           "#B6E880",
           "#FF97FF",
           "#FECB52"
          ],
          "font": {
           "color": "#2a3f5f"
          },
          "geo": {
           "bgcolor": "white",
           "lakecolor": "white",
           "landcolor": "#E5ECF6",
           "showlakes": true,
           "showland": true,
           "subunitcolor": "white"
          },
          "hoverlabel": {
           "align": "left"
          },
          "hovermode": "closest",
          "mapbox": {
           "style": "light"
          },
          "paper_bgcolor": "white",
          "plot_bgcolor": "#E5ECF6",
          "polar": {
           "angularaxis": {
            "gridcolor": "white",
            "linecolor": "white",
            "ticks": ""
           },
           "bgcolor": "#E5ECF6",
           "radialaxis": {
            "gridcolor": "white",
            "linecolor": "white",
            "ticks": ""
           }
          },
          "scene": {
           "xaxis": {
            "backgroundcolor": "#E5ECF6",
            "gridcolor": "white",
            "gridwidth": 2,
            "linecolor": "white",
            "showbackground": true,
            "ticks": "",
            "zerolinecolor": "white"
           },
           "yaxis": {
            "backgroundcolor": "#E5ECF6",
            "gridcolor": "white",
            "gridwidth": 2,
            "linecolor": "white",
            "showbackground": true,
            "ticks": "",
            "zerolinecolor": "white"
           },
           "zaxis": {
            "backgroundcolor": "#E5ECF6",
            "gridcolor": "white",
            "gridwidth": 2,
            "linecolor": "white",
            "showbackground": true,
            "ticks": "",
            "zerolinecolor": "white"
           }
          },
          "shapedefaults": {
           "line": {
            "color": "#2a3f5f"
           }
          },
          "ternary": {
           "aaxis": {
            "gridcolor": "white",
            "linecolor": "white",
            "ticks": ""
           },
           "baxis": {
            "gridcolor": "white",
            "linecolor": "white",
            "ticks": ""
           },
           "bgcolor": "#E5ECF6",
           "caxis": {
            "gridcolor": "white",
            "linecolor": "white",
            "ticks": ""
           }
          },
          "title": {
           "x": 0.05
          },
          "xaxis": {
           "automargin": true,
           "gridcolor": "white",
           "linecolor": "white",
           "ticks": "",
           "title": {
            "standoff": 15
           },
           "zerolinecolor": "white",
           "zerolinewidth": 2
          },
          "yaxis": {
           "automargin": true,
           "gridcolor": "white",
           "linecolor": "white",
           "ticks": "",
           "title": {
            "standoff": 15
           },
           "zerolinecolor": "white",
           "zerolinewidth": 2
          }
         }
        },
        "xaxis": {
         "anchor": "y",
         "domain": [
          0.0,
          1.0
         ],
         "title": {
          "text": "County"
         }
        },
        "yaxis": {
         "anchor": "x",
         "domain": [
          0.0,
          1.0
         ],
         "title": {
          "text": "Maternity beds/services"
         }
        }
       }
      },
      "text/html": "<div>                            <div id=\"1fa36684-0398-42d7-bef5-65fa572629e9\" class=\"plotly-graph-div\" style=\"height:525px; width:100%;\"></div>            <script type=\"text/javascript\">                require([\"plotly\"], function(Plotly) {                    window.PLOTLYENV=window.PLOTLYENV || {};                                    if (document.getElementById(\"1fa36684-0398-42d7-bef5-65fa572629e9\")) {                    Plotly.newPlot(                        \"1fa36684-0398-42d7-bef5-65fa572629e9\",                        [{\"alignmentgroup\": \"True\", \"hovertemplate\": \"Race/Ethnicity Description=White Non Hispanic<br>County=%{x}<br>att_value_pop=%{y}<extra></extra>\", \"legendgroup\": \"White Non Hispanic\", \"marker\": {\"color\": \"#636efa\"}, \"name\": \"White Non Hispanic\", \"offsetgroup\": \"White Non Hispanic\", \"orientation\": \"v\", \"showlegend\": true, \"textposition\": \"auto\", \"type\": \"bar\", \"x\": [\"Saratoga\", \"Ulster\", \"Steuben\", \"Chautauqua\", \"Rensselaer\", \"Putnam\", \"Wyoming\", \"Fulton\", \"Cayuga\", \"Niagara\", \"Chenango\", \"Allegany\", \"Suffolk\", \"Wayne\", \"Livingston\", \"Oswego\", \"Otsego\", \"Madison\", \"Columbia\", \"Erie\", \"Genesee\", \"Montgomery\", \"Cattaraugus\", \"Dutchess\", \"Oneida\", \"Sullivan\", \"Onondaga\", \"Monroe\", \"Lewis\", \"Tompkins\", \"Ontario\", \"Clinton\", \"Franklin\", \"Chemung\", \"Cortland\", \"Schenectady\", \"Albany\", \"Broome\", \"Warren\", \"Jefferson\"], \"xaxis\": \"x\", \"y\": [0.6818013581483054, 0.7306636507232905, 0.7504609974698744, 0.9107226832870797, 1.0929667830392928, 1.200241968780906, 1.3225110782344653, 1.3517810681130296, 1.3595010087497486, 1.3670357896980183, 1.4461614742583258, 1.4920876722295484, 1.6034667319357492, 1.6480812802295386, 1.6806666196080013, 1.7162559761463303, 1.7328940254435052, 1.775272233065629, 1.79751583311863, 1.8181168735111297, 1.82625719545335, 1.8796521390441343, 1.8834519908087541, 1.9221233115115222, 2.0419797840681086, 2.0764263318544565, 2.1105850381428133, 2.194191907530104, 2.30984223777516, 2.417830045890414, 2.4284140634854894, 2.7994475756783994, 3.081406006055358, 3.1839589600425886, 3.2505995550290385, 3.2784395065074294, 3.288160742378442, 3.4178329780331818, 3.669982415997294, 3.7062784356700247], \"yaxis\": \"y\"}, {\"alignmentgroup\": \"True\", \"hovertemplate\": \"Race/Ethnicity Description=POC<br>County=%{x}<br>att_value_pop=%{y}<extra></extra>\", \"legendgroup\": \"POC\", \"marker\": {\"color\": \"#EF553B\"}, \"name\": \"POC\", \"offsetgroup\": \"POC\", \"orientation\": \"v\", \"showlegend\": true, \"textposition\": \"auto\", \"type\": \"bar\", \"x\": [\"Queens\", \"Bronx\"], \"xaxis\": \"x\", \"y\": [1.0529216159316042, 1.7680263336354498], \"yaxis\": \"y\"}],                        {\"barmode\": \"stack\", \"legend\": {\"title\": {\"text\": \"Race/Ethnicity Description\"}, \"tracegroupgap\": 0}, \"margin\": {\"t\": 60}, \"shapes\": [{\"line\": {\"color\": \"red\"}, \"type\": \"line\", \"x0\": 0, \"x1\": 1, \"xref\": \"x domain\", \"y0\": 1.4104739747835269, \"y1\": 1.4104739747835269, \"yref\": \"y\"}, {\"line\": {\"color\": \"blue\"}, \"type\": \"line\", \"x0\": 0, \"x1\": 1, \"xref\": \"x domain\", \"y0\": 2.0061266331686616, \"y1\": 2.0061266331686616, \"yref\": \"y\"}], \"template\": {\"data\": {\"bar\": [{\"error_x\": {\"color\": \"#2a3f5f\"}, \"error_y\": {\"color\": \"#2a3f5f\"}, \"marker\": {\"line\": {\"color\": \"#E5ECF6\", \"width\": 0.5}}, \"type\": \"bar\"}], \"barpolar\": [{\"marker\": {\"line\": {\"color\": \"#E5ECF6\", \"width\": 0.5}}, \"type\": \"barpolar\"}], \"carpet\": [{\"aaxis\": {\"endlinecolor\": \"#2a3f5f\", \"gridcolor\": \"white\", \"linecolor\": \"white\", \"minorgridcolor\": \"white\", \"startlinecolor\": \"#2a3f5f\"}, \"baxis\": {\"endlinecolor\": \"#2a3f5f\", \"gridcolor\": \"white\", \"linecolor\": \"white\", \"minorgridcolor\": \"white\", \"startlinecolor\": \"#2a3f5f\"}, \"type\": \"carpet\"}], \"choropleth\": [{\"colorbar\": {\"outlinewidth\": 0, \"ticks\": \"\"}, \"type\": \"choropleth\"}], \"contour\": [{\"colorbar\": {\"outlinewidth\": 0, \"ticks\": \"\"}, \"colorscale\": [[0.0, \"#0d0887\"], [0.1111111111111111, \"#46039f\"], [0.2222222222222222, \"#7201a8\"], [0.3333333333333333, \"#9c179e\"], [0.4444444444444444, \"#bd3786\"], [0.5555555555555556, \"#d8576b\"], [0.6666666666666666, \"#ed7953\"], [0.7777777777777778, \"#fb9f3a\"], [0.8888888888888888, \"#fdca26\"], [1.0, \"#f0f921\"]], \"type\": \"contour\"}], \"contourcarpet\": [{\"colorbar\": {\"outlinewidth\": 0, \"ticks\": \"\"}, \"type\": \"contourcarpet\"}], \"heatmap\": [{\"colorbar\": {\"outlinewidth\": 0, \"ticks\": \"\"}, \"colorscale\": [[0.0, \"#0d0887\"], [0.1111111111111111, \"#46039f\"], [0.2222222222222222, \"#7201a8\"], [0.3333333333333333, \"#9c179e\"], [0.4444444444444444, \"#bd3786\"], [0.5555555555555556, \"#d8576b\"], [0.6666666666666666, \"#ed7953\"], [0.7777777777777778, \"#fb9f3a\"], [0.8888888888888888, \"#fdca26\"], [1.0, \"#f0f921\"]], \"type\": \"heatmap\"}], \"heatmapgl\": [{\"colorbar\": {\"outlinewidth\": 0, \"ticks\": \"\"}, \"colorscale\": [[0.0, \"#0d0887\"], [0.1111111111111111, \"#46039f\"], [0.2222222222222222, \"#7201a8\"], [0.3333333333333333, \"#9c179e\"], [0.4444444444444444, \"#bd3786\"], [0.5555555555555556, \"#d8576b\"], [0.6666666666666666, \"#ed7953\"], [0.7777777777777778, \"#fb9f3a\"], [0.8888888888888888, \"#fdca26\"], [1.0, \"#f0f921\"]], \"type\": \"heatmapgl\"}], \"histogram\": [{\"marker\": {\"colorbar\": {\"outlinewidth\": 0, \"ticks\": \"\"}}, \"type\": \"histogram\"}], \"histogram2d\": [{\"colorbar\": {\"outlinewidth\": 0, \"ticks\": \"\"}, \"colorscale\": [[0.0, \"#0d0887\"], [0.1111111111111111, \"#46039f\"], [0.2222222222222222, \"#7201a8\"], [0.3333333333333333, \"#9c179e\"], [0.4444444444444444, \"#bd3786\"], [0.5555555555555556, \"#d8576b\"], [0.6666666666666666, \"#ed7953\"], [0.7777777777777778, \"#fb9f3a\"], [0.8888888888888888, \"#fdca26\"], [1.0, \"#f0f921\"]], \"type\": \"histogram2d\"}], \"histogram2dcontour\": [{\"colorbar\": {\"outlinewidth\": 0, \"ticks\": \"\"}, \"colorscale\": [[0.0, \"#0d0887\"], [0.1111111111111111, \"#46039f\"], [0.2222222222222222, \"#7201a8\"], [0.3333333333333333, \"#9c179e\"], [0.4444444444444444, \"#bd3786\"], [0.5555555555555556, \"#d8576b\"], [0.6666666666666666, \"#ed7953\"], [0.7777777777777778, \"#fb9f3a\"], [0.8888888888888888, \"#fdca26\"], [1.0, \"#f0f921\"]], \"type\": \"histogram2dcontour\"}], \"mesh3d\": [{\"colorbar\": {\"outlinewidth\": 0, \"ticks\": \"\"}, \"type\": \"mesh3d\"}], \"parcoords\": [{\"line\": {\"colorbar\": {\"outlinewidth\": 0, \"ticks\": \"\"}}, \"type\": \"parcoords\"}], \"pie\": [{\"automargin\": true, \"type\": \"pie\"}], \"scatter\": [{\"marker\": {\"colorbar\": {\"outlinewidth\": 0, \"ticks\": \"\"}}, \"type\": \"scatter\"}], \"scatter3d\": [{\"line\": {\"colorbar\": {\"outlinewidth\": 0, \"ticks\": \"\"}}, \"marker\": {\"colorbar\": {\"outlinewidth\": 0, \"ticks\": \"\"}}, \"type\": \"scatter3d\"}], \"scattercarpet\": [{\"marker\": {\"colorbar\": {\"outlinewidth\": 0, \"ticks\": \"\"}}, \"type\": \"scattercarpet\"}], \"scattergeo\": [{\"marker\": {\"colorbar\": {\"outlinewidth\": 0, \"ticks\": \"\"}}, \"type\": \"scattergeo\"}], \"scattergl\": [{\"marker\": {\"colorbar\": {\"outlinewidth\": 0, \"ticks\": \"\"}}, \"type\": \"scattergl\"}], \"scattermapbox\": [{\"marker\": {\"colorbar\": {\"outlinewidth\": 0, \"ticks\": \"\"}}, \"type\": \"scattermapbox\"}], \"scatterpolar\": [{\"marker\": {\"colorbar\": {\"outlinewidth\": 0, \"ticks\": \"\"}}, \"type\": \"scatterpolar\"}], \"scatterpolargl\": [{\"marker\": {\"colorbar\": {\"outlinewidth\": 0, \"ticks\": \"\"}}, \"type\": \"scatterpolargl\"}], \"scatterternary\": [{\"marker\": {\"colorbar\": {\"outlinewidth\": 0, \"ticks\": \"\"}}, \"type\": \"scatterternary\"}], \"surface\": [{\"colorbar\": {\"outlinewidth\": 0, \"ticks\": \"\"}, \"colorscale\": [[0.0, \"#0d0887\"], [0.1111111111111111, \"#46039f\"], [0.2222222222222222, \"#7201a8\"], [0.3333333333333333, \"#9c179e\"], [0.4444444444444444, \"#bd3786\"], [0.5555555555555556, \"#d8576b\"], [0.6666666666666666, \"#ed7953\"], [0.7777777777777778, \"#fb9f3a\"], [0.8888888888888888, \"#fdca26\"], [1.0, \"#f0f921\"]], \"type\": \"surface\"}], \"table\": [{\"cells\": {\"fill\": {\"color\": \"#EBF0F8\"}, \"line\": {\"color\": \"white\"}}, \"header\": {\"fill\": {\"color\": \"#C8D4E3\"}, \"line\": {\"color\": \"white\"}}, \"type\": \"table\"}]}, \"layout\": {\"annotationdefaults\": {\"arrowcolor\": \"#2a3f5f\", \"arrowhead\": 0, \"arrowwidth\": 1}, \"autotypenumbers\": \"strict\", \"coloraxis\": {\"colorbar\": {\"outlinewidth\": 0, \"ticks\": \"\"}}, \"colorscale\": {\"diverging\": [[0, \"#8e0152\"], [0.1, \"#c51b7d\"], [0.2, \"#de77ae\"], [0.3, \"#f1b6da\"], [0.4, \"#fde0ef\"], [0.5, \"#f7f7f7\"], [0.6, \"#e6f5d0\"], [0.7, \"#b8e186\"], [0.8, \"#7fbc41\"], [0.9, \"#4d9221\"], [1, \"#276419\"]], \"sequential\": [[0.0, \"#0d0887\"], [0.1111111111111111, \"#46039f\"], [0.2222222222222222, \"#7201a8\"], [0.3333333333333333, \"#9c179e\"], [0.4444444444444444, \"#bd3786\"], [0.5555555555555556, \"#d8576b\"], [0.6666666666666666, \"#ed7953\"], [0.7777777777777778, \"#fb9f3a\"], [0.8888888888888888, \"#fdca26\"], [1.0, \"#f0f921\"]], \"sequentialminus\": [[0.0, \"#0d0887\"], [0.1111111111111111, \"#46039f\"], [0.2222222222222222, \"#7201a8\"], [0.3333333333333333, \"#9c179e\"], [0.4444444444444444, \"#bd3786\"], [0.5555555555555556, \"#d8576b\"], [0.6666666666666666, \"#ed7953\"], [0.7777777777777778, \"#fb9f3a\"], [0.8888888888888888, \"#fdca26\"], [1.0, \"#f0f921\"]]}, \"colorway\": [\"#636efa\", \"#EF553B\", \"#00cc96\", \"#ab63fa\", \"#FFA15A\", \"#19d3f3\", \"#FF6692\", \"#B6E880\", \"#FF97FF\", \"#FECB52\"], \"font\": {\"color\": \"#2a3f5f\"}, \"geo\": {\"bgcolor\": \"white\", \"lakecolor\": \"white\", \"landcolor\": \"#E5ECF6\", \"showlakes\": true, \"showland\": true, \"subunitcolor\": \"white\"}, \"hoverlabel\": {\"align\": \"left\"}, \"hovermode\": \"closest\", \"mapbox\": {\"style\": \"light\"}, \"paper_bgcolor\": \"white\", \"plot_bgcolor\": \"#E5ECF6\", \"polar\": {\"angularaxis\": {\"gridcolor\": \"white\", \"linecolor\": \"white\", \"ticks\": \"\"}, \"bgcolor\": \"#E5ECF6\", \"radialaxis\": {\"gridcolor\": \"white\", \"linecolor\": \"white\", \"ticks\": \"\"}}, \"scene\": {\"xaxis\": {\"backgroundcolor\": \"#E5ECF6\", \"gridcolor\": \"white\", \"gridwidth\": 2, \"linecolor\": \"white\", \"showbackground\": true, \"ticks\": \"\", \"zerolinecolor\": \"white\"}, \"yaxis\": {\"backgroundcolor\": \"#E5ECF6\", \"gridcolor\": \"white\", \"gridwidth\": 2, \"linecolor\": \"white\", \"showbackground\": true, \"ticks\": \"\", \"zerolinecolor\": \"white\"}, \"zaxis\": {\"backgroundcolor\": \"#E5ECF6\", \"gridcolor\": \"white\", \"gridwidth\": 2, \"linecolor\": \"white\", \"showbackground\": true, \"ticks\": \"\", \"zerolinecolor\": \"white\"}}, \"shapedefaults\": {\"line\": {\"color\": \"#2a3f5f\"}}, \"ternary\": {\"aaxis\": {\"gridcolor\": \"white\", \"linecolor\": \"white\", \"ticks\": \"\"}, \"baxis\": {\"gridcolor\": \"white\", \"linecolor\": \"white\", \"ticks\": \"\"}, \"bgcolor\": \"#E5ECF6\", \"caxis\": {\"gridcolor\": \"white\", \"linecolor\": \"white\", \"ticks\": \"\"}}, \"title\": {\"x\": 0.05}, \"xaxis\": {\"automargin\": true, \"gridcolor\": \"white\", \"linecolor\": \"white\", \"ticks\": \"\", \"title\": {\"standoff\": 15}, \"zerolinecolor\": \"white\", \"zerolinewidth\": 2}, \"yaxis\": {\"automargin\": true, \"gridcolor\": \"white\", \"linecolor\": \"white\", \"ticks\": \"\", \"title\": {\"standoff\": 15}, \"zerolinecolor\": \"white\", \"zerolinewidth\": 2}}}, \"xaxis\": {\"anchor\": \"y\", \"domain\": [0.0, 1.0], \"title\": {\"text\": \"County\"}}, \"yaxis\": {\"anchor\": \"x\", \"domain\": [0.0, 1.0], \"title\": {\"text\": \"Maternity beds/services\"}}},                        {\"responsive\": true}                    ).then(function(){\n                            \nvar gd = document.getElementById('1fa36684-0398-42d7-bef5-65fa572629e9');\nvar x = new MutationObserver(function (mutations, observer) {{\n        var display = window.getComputedStyle(gd).display;\n        if (!display || display === 'none') {{\n            console.log([gd, 'removed!']);\n            Plotly.purge(gd);\n            observer.disconnect();\n        }}\n}});\n\n// Listen for the removal of the full notebook cells\nvar notebookContainer = gd.closest('#notebook-container');\nif (notebookContainer) {{\n    x.observe(notebookContainer, {childList: true});\n}}\n\n// Listen for the clearing of the current output cell\nvar outputEl = gd.closest('.output');\nif (outputEl) {{\n    x.observe(outputEl, {childList: true});\n}}\n\n                        })                };                });            </script>        </div>"
     },
     "metadata": {},
     "output_type": "display_data"
    }
   ],
   "source": [
    "bed_county_attval_copy = bed_county_attval[bed_county_attval[\"County\"].isin(top_counties[\"County Name\"])]\n",
    "# bed_county_attval_copy.loc[bed_county_attval_copy[]]\n",
    "all_merged = pd.merge(top_counties_trimmed,bed_county_attval_copy,how=\"inner\",left_on=[\"County Name\"],right_on=[\"County\"])\n",
    "# all_merged_trimmed = all_merged[all_merged[\"Population\"] > 2e+05]\n",
    "\n",
    "all_merged = all_merged[all_merged[\"Attribute Value\"] == \"Maternity\"]\n",
    "all_merged[\"att_value_pop\"] = all_merged[\"Measure Value\"] *10000/ all_merged[\"Population\"]\n",
    "# print(all_merged)\n",
    "all_merged.groupby(by=[\"Race/Ethnicity Description\", \"County\"])[\"att_value_pop\"].sum()\n",
    "temp = all_merged.groupby(by=[\"Race/Ethnicity Description\", \"County\"])[\"att_value_pop\"].sum().reset_index().sort_values(by=\"att_value_pop\")\n",
    "fig = px.bar(temp, x=\"County\", y=\"att_value_pop\", color=\"Race/Ethnicity Description\",\n",
    "             barmode = 'stack')\n",
    "avg_att_val = temp.groupby(by=[\"Race/Ethnicity Description\"])[\"att_value_pop\"].mean()\n",
    "# print(avg_att_val)\n",
    "# fig.add_hline(y=temp[temp[\"County\"] == \"Queens\"][\"att_value_pop\"].values[0],line_color=\"red\")\n",
    "fig.add_hline(y=avg_att_val.values[0],line_color=\"red\")\n",
    "fig.add_hline(y=avg_att_val.values[1],line_color=\"blue\")\n",
    "fig.update_yaxes(title=\"Maternity beds/services\")\n",
    "fig.show()\n",
    "\n",
    "\n"
   ],
   "metadata": {
    "collapsed": false,
    "pycharm": {
     "name": "#%%md\n"
    }
   }
  }
 ],
 "metadata": {
  "kernelspec": {
   "name": "pycharm-9201cc8e",
   "language": "python",
   "display_name": "PyCharm (project-modules)"
  },
  "language_info": {
   "codemirror_mode": {
    "name": "ipython",
    "version": 2
   },
   "file_extension": ".py",
   "mimetype": "text/x-python",
   "name": "python",
   "nbconvert_exporter": "python",
   "pygments_lexer": "ipython2",
   "version": "2.7.6"
  }
 },
 "nbformat": 4,
 "nbformat_minor": 0
}